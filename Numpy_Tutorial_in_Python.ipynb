{
  "nbformat": 4,
  "nbformat_minor": 0,
  "metadata": {
    "colab": {
      "provenance": [],
      "authorship_tag": "ABX9TyP1FThq7e+lH/D0nfXfaia+",
      "include_colab_link": true
    },
    "kernelspec": {
      "name": "python3",
      "display_name": "Python 3"
    },
    "language_info": {
      "name": "python"
    }
  },
  "cells": [
    {
      "cell_type": "markdown",
      "metadata": {
        "id": "view-in-github",
        "colab_type": "text"
      },
      "source": [
        "<a href=\"https://colab.research.google.com/github/Vigneswarsiddu/Important-Python-Libraries-for-Machine-Learning/blob/main/Numpy_Tutorial_in_Python.ipynb\" target=\"_parent\"><img src=\"https://colab.research.google.com/assets/colab-badge.svg\" alt=\"Open In Colab\"/></a>"
      ]
    },
    {
      "cell_type": "markdown",
      "source": [
        "**Author: K. VIGNESWAR SIDDU Email ID: vigneswarsiddu07@gmail.com**"
      ],
      "metadata": {
        "id": "-GTjz6BaMN_1"
      }
    },
    {
      "cell_type": "markdown",
      "source": [
        "NumPy - Numerical Python\n",
        "\n",
        "Advantages:\n",
        "1. It allows several mathematical Operations\n",
        "2. The Operations we do in NumPy array it is faster"
      ],
      "metadata": {
        "id": "tIgwEXNsiflI"
      }
    },
    {
      "cell_type": "code",
      "execution_count": 1,
      "metadata": {
        "id": "hDJd5yIVbQW_"
      },
      "outputs": [],
      "source": [
        "#Loading library\n",
        "import numpy as np"
      ]
    },
    {
      "cell_type": "markdown",
      "source": [
        "# List vs Numpy - Time Taken"
      ],
      "metadata": {
        "id": "hnwCSuFujs68"
      }
    },
    {
      "cell_type": "code",
      "source": [
        "# Loading the time\n",
        "from time import process_time"
      ],
      "metadata": {
        "id": "P-G7BjMcjr37"
      },
      "execution_count": 2,
      "outputs": []
    },
    {
      "cell_type": "markdown",
      "source": [
        "Time taken by the List"
      ],
      "metadata": {
        "id": "O2epqNpYkN0T"
      }
    },
    {
      "cell_type": "code",
      "source": [
        "#let's create list from 0 to 10000\n",
        "my_list=[i for i in range(10000)]\n",
        "start_time=process_time()\n",
        "print(\"The start time is: \",start_time)\n",
        "#lets add +5 into the list\n",
        "my_list=[i+5 for i in my_list]\n",
        "end_time=process_time()\n",
        "print(\"the end time is: \",end_time)\n",
        "\n",
        "#difference\n",
        "print(end_time-start_time)\n"
      ],
      "metadata": {
        "colab": {
          "base_uri": "https://localhost:8080/"
        },
        "id": "QOISpQ2AkP8s",
        "outputId": "53e1db03-5f85-4eb2-f0f5-3ed042600ab2"
      },
      "execution_count": 16,
      "outputs": [
        {
          "output_type": "stream",
          "name": "stdout",
          "text": [
            "The start time is:  15.683412128\n",
            "the end time is:  15.686739126\n",
            "0.0033269980000003585\n"
          ]
        }
      ]
    },
    {
      "cell_type": "markdown",
      "source": [
        "Time Taken by Numpy Array"
      ],
      "metadata": {
        "id": "qzSlJMlKpU9F"
      }
    },
    {
      "cell_type": "code",
      "source": [
        "np_array=np.array([i for i in range(10000)])\n",
        "start_time1=process_time()\n",
        "print(\"The start time is: \",start_time1)\n",
        "np_array+=5\n",
        "end_time1=process_time()\n",
        "print(\"the end time is: \",end_time1)\n",
        "\n",
        "#difference\n",
        "print(end_time1-start_time1)\n",
        "\n",
        "#In output we can see compare to list numpyarray taking time is very less as 1.8 ms"
      ],
      "metadata": {
        "colab": {
          "base_uri": "https://localhost:8080/"
        },
        "id": "sljdC0G_nqkM",
        "outputId": "1d0b45f7-ef7d-49f7-93bb-57090dd0f3ab"
      },
      "execution_count": 17,
      "outputs": [
        {
          "output_type": "stream",
          "name": "stdout",
          "text": [
            "The start time is:  16.011505706\n",
            "the end time is:  16.01331606\n",
            "0.0018103539999998475\n"
          ]
        }
      ]
    },
    {
      "cell_type": "markdown",
      "source": [
        "# Numpy Arrays"
      ],
      "metadata": {
        "id": "iI9YZIcxrKcY"
      }
    },
    {
      "cell_type": "code",
      "source": [
        "#creating the list\n",
        "list1=[1,2,3,4,5,6,7,8,9]\n",
        "print(type(list1))\n",
        "print(list1)"
      ],
      "metadata": {
        "colab": {
          "base_uri": "https://localhost:8080/"
        },
        "id": "Mp8g1PXJrN7b",
        "outputId": "1e4c9233-3219-4fef-eb96-3789a6b55a29"
      },
      "execution_count": 19,
      "outputs": [
        {
          "output_type": "stream",
          "name": "stdout",
          "text": [
            "<class 'list'>\n",
            "[1, 2, 3, 4, 5, 6, 7, 8, 9]\n"
          ]
        }
      ]
    },
    {
      "cell_type": "code",
      "source": [
        "np_array=np.array([1,2,3,4,5,6,7,8,9])\n",
        "print(type(np_array))\n",
        "print(np_array)"
      ],
      "metadata": {
        "colab": {
          "base_uri": "https://localhost:8080/"
        },
        "id": "_do0CMdLrfiq",
        "outputId": "b1a449dd-e933-4875-b29d-906f5b447968"
      },
      "execution_count": 20,
      "outputs": [
        {
          "output_type": "stream",
          "name": "stdout",
          "text": [
            "<class 'numpy.ndarray'>\n",
            "[1 2 3 4 5 6 7 8 9]\n"
          ]
        }
      ]
    },
    {
      "cell_type": "code",
      "source": [
        "#creating an 1D array\n",
        "x=np.array([1,2,3,4])\n",
        "print(x)"
      ],
      "metadata": {
        "colab": {
          "base_uri": "https://localhost:8080/"
        },
        "id": "1hzNYFQnsB7d",
        "outputId": "6e065a14-9bb0-468c-a96e-03cffd5b635e"
      },
      "execution_count": 21,
      "outputs": [
        {
          "output_type": "stream",
          "name": "stdout",
          "text": [
            "[1 2 3 4]\n"
          ]
        }
      ]
    },
    {
      "cell_type": "code",
      "source": [
        "x.shape"
      ],
      "metadata": {
        "colab": {
          "base_uri": "https://localhost:8080/"
        },
        "id": "wueHLf3ysLFY",
        "outputId": "92439b56-0148-46c5-da2e-04d51d8420f6"
      },
      "execution_count": 22,
      "outputs": [
        {
          "output_type": "execute_result",
          "data": {
            "text/plain": [
              "(4,)"
            ]
          },
          "metadata": {},
          "execution_count": 22
        }
      ]
    },
    {
      "cell_type": "code",
      "source": [
        "#creating an 2D array\n",
        "y=np.array([(1,2,3,4),(5,6,7,8)])\n",
        "print(y)\n",
        "y.shape"
      ],
      "metadata": {
        "colab": {
          "base_uri": "https://localhost:8080/"
        },
        "id": "71qK5cjmsRAA",
        "outputId": "3b2f74cf-9737-4c2f-a8ed-ddb85922a3d1"
      },
      "execution_count": 24,
      "outputs": [
        {
          "output_type": "stream",
          "name": "stdout",
          "text": [
            "[[1 2 3 4]\n",
            " [5 6 7 8]]\n"
          ]
        },
        {
          "output_type": "execute_result",
          "data": {
            "text/plain": [
              "(2, 4)"
            ]
          },
          "metadata": {},
          "execution_count": 24
        }
      ]
    },
    {
      "cell_type": "code",
      "source": [
        "z=np.array([(1,2,3,4),(5,6,7,8),(9,10,11,12)])\n",
        "print(z)\n",
        "z.shape"
      ],
      "metadata": {
        "colab": {
          "base_uri": "https://localhost:8080/"
        },
        "id": "NANWL8Lvs3HF",
        "outputId": "fb480e0b-c87e-4324-d9b5-604d90647532"
      },
      "execution_count": 25,
      "outputs": [
        {
          "output_type": "stream",
          "name": "stdout",
          "text": [
            "[[ 1  2  3  4]\n",
            " [ 5  6  7  8]\n",
            " [ 9 10 11 12]]\n"
          ]
        },
        {
          "output_type": "execute_result",
          "data": {
            "text/plain": [
              "(3, 4)"
            ]
          },
          "metadata": {},
          "execution_count": 25
        }
      ]
    },
    {
      "cell_type": "code",
      "source": [
        "#To create array in floating point\n",
        "a=np.array([(1,2,3,4),(5,6,7,8)],dtype=float)\n",
        "print(a)\n",
        "print(a.shape)\n",
        "print(type(a))"
      ],
      "metadata": {
        "colab": {
          "base_uri": "https://localhost:8080/"
        },
        "id": "G2yjzQUvtP6X",
        "outputId": "4e43a050-c472-4a0a-b73d-5ad61dde3260"
      },
      "execution_count": 27,
      "outputs": [
        {
          "output_type": "stream",
          "name": "stdout",
          "text": [
            "[[1. 2. 3. 4.]\n",
            " [5. 6. 7. 8.]]\n",
            "(2, 4)\n",
            "<class 'numpy.ndarray'>\n"
          ]
        }
      ]
    },
    {
      "cell_type": "markdown",
      "source": [
        "Initial Placeholders in Numpy arrays"
      ],
      "metadata": {
        "id": "eXWjh9mht6G8"
      }
    },
    {
      "cell_type": "code",
      "source": [
        "#creating the numpy array with 0's\n",
        "\n",
        "b=np.zeros((4,4),dtype=int)\n",
        "print(b)\n"
      ],
      "metadata": {
        "colab": {
          "base_uri": "https://localhost:8080/"
        },
        "id": "yv0iEB0ZuA5v",
        "outputId": "8633db2e-c10a-46f8-b7c8-e6df5702c0df"
      },
      "execution_count": 32,
      "outputs": [
        {
          "output_type": "stream",
          "name": "stdout",
          "text": [
            "[[0 0 0 0]\n",
            " [0 0 0 0]\n",
            " [0 0 0 0]\n",
            " [0 0 0 0]]\n"
          ]
        }
      ]
    },
    {
      "cell_type": "code",
      "source": [
        "#creating with 1's\n",
        "\n",
        "c=np.ones((4,4),dtype=int)\n",
        "print(c)\n"
      ],
      "metadata": {
        "colab": {
          "base_uri": "https://localhost:8080/"
        },
        "id": "FQGUwYWluoRY",
        "outputId": "36f1c595-3d2c-4484-ad66-39b677b45856"
      },
      "execution_count": 30,
      "outputs": [
        {
          "output_type": "stream",
          "name": "stdout",
          "text": [
            "[[1 1 1 1]\n",
            " [1 1 1 1]\n",
            " [1 1 1 1]\n",
            " [1 1 1 1]]\n"
          ]
        }
      ]
    },
    {
      "cell_type": "code",
      "source": [
        "# creating with particular value\n",
        "\n",
        "d=np.full((4,4),5)\n",
        "print(d)"
      ],
      "metadata": {
        "colab": {
          "base_uri": "https://localhost:8080/"
        },
        "id": "nR0CgziWvBNN",
        "outputId": "fd7dc444-abe0-48aa-ac3e-8ee9dbf2a345"
      },
      "execution_count": 33,
      "outputs": [
        {
          "output_type": "stream",
          "name": "stdout",
          "text": [
            "[[5 5 5 5]\n",
            " [5 5 5 5]\n",
            " [5 5 5 5]\n",
            " [5 5 5 5]]\n"
          ]
        }
      ]
    },
    {
      "cell_type": "code",
      "source": [
        "#creating an Identity Matrix\n",
        "\n",
        "e=np.eye(4,dtype=int)\n",
        "print(e)"
      ],
      "metadata": {
        "colab": {
          "base_uri": "https://localhost:8080/"
        },
        "id": "XORaQK-twQyQ",
        "outputId": "a7ddeb47-fa25-486b-a7b7-76b430111323"
      },
      "execution_count": 61,
      "outputs": [
        {
          "output_type": "stream",
          "name": "stdout",
          "text": [
            "[[1 0 0 0]\n",
            " [0 1 0 0]\n",
            " [0 0 1 0]\n",
            " [0 0 0 1]]\n"
          ]
        }
      ]
    },
    {
      "cell_type": "code",
      "source": [
        "#creating random values\n",
        "f=np.random.random((4,4))\n",
        "print(f)"
      ],
      "metadata": {
        "colab": {
          "base_uri": "https://localhost:8080/"
        },
        "id": "YMpKYqkxxFzM",
        "outputId": "976e8037-7881-4e6a-f278-6bc5595c135a"
      },
      "execution_count": 43,
      "outputs": [
        {
          "output_type": "stream",
          "name": "stdout",
          "text": [
            "[[0.22397617 0.80977149 0.66789341 0.86700773]\n",
            " [0.53792696 0.29628436 0.89399435 0.49302727]\n",
            " [0.20346914 0.40771786 0.698909   0.58151559]\n",
            " [0.23001698 0.24144416 0.97864581 0.83636154]]\n"
          ]
        }
      ]
    },
    {
      "cell_type": "code",
      "source": [
        "g=np.random.randint(10,20,(4,4))\n",
        "print(g)"
      ],
      "metadata": {
        "colab": {
          "base_uri": "https://localhost:8080/"
        },
        "id": "aiaxCSfbxzgp",
        "outputId": "948516bb-622b-4cc3-8889-361986b233a7"
      },
      "execution_count": 45,
      "outputs": [
        {
          "output_type": "stream",
          "name": "stdout",
          "text": [
            "[[15 12 13 19]\n",
            " [13 17 11 18]\n",
            " [12 17 10 14]\n",
            " [19 15 17 12]]\n"
          ]
        }
      ]
    },
    {
      "cell_type": "code",
      "source": [
        "#creating an array of evenly spaced values\n",
        "\n",
        "h=np.linspace(10,20,6)\n",
        "print(h)\n",
        "h.shape"
      ],
      "metadata": {
        "colab": {
          "base_uri": "https://localhost:8080/"
        },
        "id": "fA2zsCfVyOVw",
        "outputId": "c7adb64d-87cd-483a-8e04-857db4876f91"
      },
      "execution_count": 56,
      "outputs": [
        {
          "output_type": "stream",
          "name": "stdout",
          "text": [
            "[10. 12. 14. 16. 18. 20.]\n"
          ]
        },
        {
          "output_type": "execute_result",
          "data": {
            "text/plain": [
              "(6,)"
            ]
          },
          "metadata": {},
          "execution_count": 56
        }
      ]
    },
    {
      "cell_type": "code",
      "source": [
        "#creating an array of evenly spaced values with slicing - step\n",
        "i=np.arange(2,100+2,2)\n",
        "print(i)\n",
        "print(len(i))"
      ],
      "metadata": {
        "colab": {
          "base_uri": "https://localhost:8080/"
        },
        "id": "EQcArg211wfs",
        "outputId": "11706892-7679-44f8-94f2-fa534d154d70"
      },
      "execution_count": 60,
      "outputs": [
        {
          "output_type": "stream",
          "name": "stdout",
          "text": [
            "[  2   4   6   8  10  12  14  16  18  20  22  24  26  28  30  32  34  36\n",
            "  38  40  42  44  46  48  50  52  54  56  58  60  62  64  66  68  70  72\n",
            "  74  76  78  80  82  84  86  88  90  92  94  96  98 100]\n",
            "50\n"
          ]
        }
      ]
    },
    {
      "cell_type": "code",
      "source": [
        "#converting list into Numpy Array\n",
        "siddu=[1,2,3,4,5,6,7,8,9]\n",
        "type(siddu)\n",
        "np_array=np.asarray(siddu)\n",
        "print(np_array)\n",
        "type(np_array)"
      ],
      "metadata": {
        "colab": {
          "base_uri": "https://localhost:8080/"
        },
        "id": "uBnOk-Zo3BpZ",
        "outputId": "92f8db38-20c9-4e8b-d0a8-7ee44eba0c30"
      },
      "execution_count": 62,
      "outputs": [
        {
          "output_type": "stream",
          "name": "stdout",
          "text": [
            "[1 2 3 4 5 6 7 8 9]\n"
          ]
        },
        {
          "output_type": "execute_result",
          "data": {
            "text/plain": [
              "numpy.ndarray"
            ]
          },
          "metadata": {},
          "execution_count": 62
        }
      ]
    },
    {
      "cell_type": "markdown",
      "source": [
        "# Analyzing an Numpy Array"
      ],
      "metadata": {
        "id": "sf7oGWGCAHpP"
      }
    },
    {
      "cell_type": "code",
      "source": [
        "df=np.random.randint(10,20,(4,4))\n",
        "print(df)"
      ],
      "metadata": {
        "colab": {
          "base_uri": "https://localhost:8080/"
        },
        "id": "zrr8By2T_4uz",
        "outputId": "479711d6-128a-4912-b5f7-a5c4b8a43442"
      },
      "execution_count": 63,
      "outputs": [
        {
          "output_type": "stream",
          "name": "stdout",
          "text": [
            "[[13 11 11 18]\n",
            " [15 17 18 13]\n",
            " [11 10 15 12]\n",
            " [15 14 16 11]]\n"
          ]
        }
      ]
    },
    {
      "cell_type": "code",
      "source": [
        "# check dimension\n",
        "print(df.shape)"
      ],
      "metadata": {
        "colab": {
          "base_uri": "https://localhost:8080/"
        },
        "id": "UUWNd5oFAfTs",
        "outputId": "f14ba413-dd9c-494b-e1b3-4af27c53b589"
      },
      "execution_count": 64,
      "outputs": [
        {
          "output_type": "stream",
          "name": "stdout",
          "text": [
            "(4, 4)\n"
          ]
        }
      ]
    },
    {
      "cell_type": "code",
      "source": [
        "# no.of Dimension\n",
        "print(df.ndim)"
      ],
      "metadata": {
        "colab": {
          "base_uri": "https://localhost:8080/"
        },
        "id": "f-nAaWpYAlBA",
        "outputId": "0d5b74ea-cc32-48f6-962e-6b2f5a0cdc67"
      },
      "execution_count": 65,
      "outputs": [
        {
          "output_type": "stream",
          "name": "stdout",
          "text": [
            "2\n"
          ]
        }
      ]
    },
    {
      "cell_type": "code",
      "source": [
        "# no.of values present in array\n",
        "print(df.size)"
      ],
      "metadata": {
        "colab": {
          "base_uri": "https://localhost:8080/"
        },
        "id": "B0syFVEsBCyJ",
        "outputId": "720d34ea-62e4-49d3-89ed-00b3323d0419"
      },
      "execution_count": 66,
      "outputs": [
        {
          "output_type": "stream",
          "name": "stdout",
          "text": [
            "16\n"
          ]
        }
      ]
    },
    {
      "cell_type": "code",
      "source": [
        "# datatype of value\n",
        "print(df.dtype)"
      ],
      "metadata": {
        "colab": {
          "base_uri": "https://localhost:8080/"
        },
        "id": "J_PvCDt0BMGJ",
        "outputId": "7ee8989b-3484-4026-f5e7-eeffceafd809"
      },
      "execution_count": 68,
      "outputs": [
        {
          "output_type": "stream",
          "name": "stdout",
          "text": [
            "int64\n"
          ]
        }
      ]
    },
    {
      "cell_type": "markdown",
      "source": [
        "# Mathematical Operations on Numpy Array"
      ],
      "metadata": {
        "id": "nvPlnwVwBgBf"
      }
    },
    {
      "cell_type": "code",
      "source": [
        "#Element wise addition\n",
        "x=np.random.randint(10,20,(4,4))\n",
        "y=np.random.randint(20,30,(4,4))\n",
        "z=np.random.randint(30,40,(4,4))\n",
        "print(x,y,z)"
      ],
      "metadata": {
        "colab": {
          "base_uri": "https://localhost:8080/"
        },
        "id": "Zt9S1i8MBjy9",
        "outputId": "e633be55-170b-49f1-f84e-d70ff180e6e7"
      },
      "execution_count": 71,
      "outputs": [
        {
          "output_type": "stream",
          "name": "stdout",
          "text": [
            "[[16 19 15 10]\n",
            " [18 17 18 16]\n",
            " [13 11 10 13]\n",
            " [12 19 13 15]] [[26 28 25 20]\n",
            " [25 28 22 26]\n",
            " [26 26 26 20]\n",
            " [24 22 28 20]] [[37 33 38 32]\n",
            " [31 33 35 33]\n",
            " [31 37 35 30]\n",
            " [36 31 38 37]]\n"
          ]
        }
      ]
    },
    {
      "cell_type": "code",
      "source": [
        "print(\"The sum is: \",x+y+z)\n",
        "print(\"The product is: \",x*y*z)\n",
        "print(\"The subtraction is: \",x-y-z)"
      ],
      "metadata": {
        "colab": {
          "base_uri": "https://localhost:8080/"
        },
        "id": "4wrpwBqnCzeU",
        "outputId": "0889b405-e00e-40ca-c098-c11ac59e52ed"
      },
      "execution_count": 72,
      "outputs": [
        {
          "output_type": "stream",
          "name": "stdout",
          "text": [
            "The sum is:  [[79 80 78 62]\n",
            " [74 78 75 75]\n",
            " [70 74 71 63]\n",
            " [72 72 79 72]]\n",
            "The product is:  [[15392 17556 14250  6400]\n",
            " [13950 15708 13860 13728]\n",
            " [10478 10582  9100  7800]\n",
            " [10368 12958 13832 11100]]\n",
            "The subtraction is:  [[-47 -42 -48 -42]\n",
            " [-38 -44 -39 -43]\n",
            " [-44 -52 -51 -37]\n",
            " [-48 -34 -53 -42]]\n"
          ]
        }
      ]
    },
    {
      "cell_type": "code",
      "source": [
        "#Element wise addition\n",
        "x=np.random.randint(10,20,(4,4))\n",
        "y=np.random.randint(20,30,(4,4))\n",
        "z=np.random.randint(30,40,(4,4))\n",
        "print(x,y,z)"
      ],
      "metadata": {
        "colab": {
          "base_uri": "https://localhost:8080/"
        },
        "id": "vcqBTaYTDZv5",
        "outputId": "e2b659f2-36e9-4329-a25b-a18e2d4ece10"
      },
      "execution_count": 73,
      "outputs": [
        {
          "output_type": "stream",
          "name": "stdout",
          "text": [
            "[[18 11 16 11]\n",
            " [14 13 19 13]\n",
            " [14 13 11 11]\n",
            " [16 18 18 11]] [[21 25 21 28]\n",
            " [25 25 24 21]\n",
            " [21 21 27 21]\n",
            " [28 24 25 20]] [[36 30 39 38]\n",
            " [31 37 37 39]\n",
            " [37 30 34 34]\n",
            " [39 38 32 32]]\n"
          ]
        }
      ]
    },
    {
      "cell_type": "code",
      "source": [
        "print(np.add(x,y,z))\n",
        "print(np.subtract(x,y,z))\n",
        "print(np.multiply(x,y,z))\n",
        "print(np.divide(x,y))\n",
        "print(np.divide(y,z))"
      ],
      "metadata": {
        "colab": {
          "base_uri": "https://localhost:8080/"
        },
        "id": "i_HRS78RDbmm",
        "outputId": "4aa9f813-aaee-46c3-bf32-f42fd88c2259"
      },
      "execution_count": 77,
      "outputs": [
        {
          "output_type": "stream",
          "name": "stdout",
          "text": [
            "[[399 300 357 336]\n",
            " [375 350 480 294]\n",
            " [315 294 324 252]\n",
            " [476 456 475 240]]\n",
            "[[357 250 315 280]\n",
            " [325 300 432 252]\n",
            " [273 252 270 210]\n",
            " [420 408 425 200]]\n",
            "[[ 7938  6875  7056  8624]\n",
            " [ 8750  8125 10944  5733]\n",
            " [ 6174  5733  8019  4851]\n",
            " [12544 10368 11250  4400]]\n",
            "[[18. 11. 16. 11.]\n",
            " [14. 13. 19. 13.]\n",
            " [14. 13. 11. 11.]\n",
            " [16. 18. 18. 11.]]\n",
            "[[0.0026455  0.00363636 0.00297619 0.00324675]\n",
            " [0.00285714 0.00307692 0.00219298 0.003663  ]\n",
            " [0.00340136 0.003663   0.003367   0.004329  ]\n",
            " [0.00223214 0.00231481 0.00222222 0.00454545]]\n"
          ]
        }
      ]
    },
    {
      "cell_type": "markdown",
      "source": [
        "# Array Manipulation"
      ],
      "metadata": {
        "id": "THsxRxLBEds1"
      }
    },
    {
      "cell_type": "code",
      "source": [
        "my_array=np.random.randint(10,20,(4,3))\n",
        "print(my_array)\n",
        "print(my_array.shape)\n",
        "print(type(my_array))\n",
        "print(my_array.ndim)\n",
        "print(my_array.size)"
      ],
      "metadata": {
        "colab": {
          "base_uri": "https://localhost:8080/"
        },
        "id": "_vXTriiLEfkN",
        "outputId": "434d24c6-9adb-419e-98ac-0f0d2ce4ab33"
      },
      "execution_count": 79,
      "outputs": [
        {
          "output_type": "stream",
          "name": "stdout",
          "text": [
            "[[19 19 15]\n",
            " [13 19 14]\n",
            " [15 17 12]\n",
            " [18 11 18]]\n",
            "(4, 3)\n",
            "<class 'numpy.ndarray'>\n",
            "2\n",
            "12\n"
          ]
        }
      ]
    },
    {
      "cell_type": "code",
      "source": [
        "#transpose an array\n",
        "trans=np.transpose(my_array)\n",
        "print(trans)\n",
        "print(trans.shape)"
      ],
      "metadata": {
        "colab": {
          "base_uri": "https://localhost:8080/"
        },
        "id": "WOmnPav0FGdd",
        "outputId": "d692451b-6044-41d4-be79-1eeb20418976"
      },
      "execution_count": 80,
      "outputs": [
        {
          "output_type": "stream",
          "name": "stdout",
          "text": [
            "[[19 13 15 18]\n",
            " [19 19 17 11]\n",
            " [15 14 12 18]]\n",
            "(3, 4)\n"
          ]
        }
      ]
    },
    {
      "cell_type": "code",
      "source": [
        "# or you can simply use T\n",
        "my_array=np.random.randint(10,20,(4,3))\n",
        "print(my_array)\n",
        "trans1=my_array.T\n",
        "print(trans1)"
      ],
      "metadata": {
        "colab": {
          "base_uri": "https://localhost:8080/"
        },
        "id": "kPCNF_xrFZp7",
        "outputId": "5861570d-2cba-49c4-d344-1cf6252652c7"
      },
      "execution_count": 81,
      "outputs": [
        {
          "output_type": "stream",
          "name": "stdout",
          "text": [
            "[[17 11 12]\n",
            " [18 19 11]\n",
            " [13 10 14]\n",
            " [13 12 17]]\n",
            "[[17 18 13 13]\n",
            " [11 19 10 12]\n",
            " [12 11 14 17]]\n"
          ]
        }
      ]
    },
    {
      "cell_type": "code",
      "source": [
        "#reshaping of an array\n",
        "s=np.random.randint(0,10,(4,3))\n",
        "print(s)"
      ],
      "metadata": {
        "colab": {
          "base_uri": "https://localhost:8080/"
        },
        "id": "aluIu480F8Uu",
        "outputId": "c4ebb423-1fde-4c96-c043-bdb685e2561a"
      },
      "execution_count": 82,
      "outputs": [
        {
          "output_type": "stream",
          "name": "stdout",
          "text": [
            "[[6 9 7]\n",
            " [4 6 5]\n",
            " [1 3 3]\n",
            " [4 7 2]]\n"
          ]
        }
      ]
    },
    {
      "cell_type": "code",
      "source": [
        "i=s.reshape(2,6)\n",
        "print(i)"
      ],
      "metadata": {
        "colab": {
          "base_uri": "https://localhost:8080/"
        },
        "id": "pEl54LSeGb15",
        "outputId": "c066e9bd-809b-4d91-d11d-a32bd967e8bc"
      },
      "execution_count": 84,
      "outputs": [
        {
          "output_type": "stream",
          "name": "stdout",
          "text": [
            "[[6 9 7 4 6 5]\n",
            " [1 3 3 4 7 2]]\n"
          ]
        }
      ]
    }
  ]
}